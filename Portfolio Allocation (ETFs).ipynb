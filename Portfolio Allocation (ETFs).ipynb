{
 "cells": [
  {
   "cell_type": "markdown",
   "metadata": {},
   "source": [
    "# Portfolio Allocation of Jestin's ETFs"
   ]
  },
  {
   "cell_type": "markdown",
   "metadata": {},
   "source": [
    "#### Start with installing the required libraries"
   ]
  },
  {
   "cell_type": "code",
   "execution_count": null,
   "metadata": {},
   "outputs": [],
   "source": [
    "pip install pandas numpy yfinance scipy"
   ]
  },
  {
   "cell_type": "markdown",
   "metadata": {},
   "source": [
    "#### Import the libraries into variables"
   ]
  },
  {
   "cell_type": "code",
   "execution_count": null,
   "metadata": {},
   "outputs": [],
   "source": [
    "import pandas as pd\n",
    "import numpy as np\n",
    "import yfinance as yf\n",
    "from scipy.optimize import minimize\n",
    "import matplotlib.pyplot as plt"
   ]
  },
  {
   "cell_type": "markdown",
   "metadata": {},
   "source": [
    "#### The code below outlines the portfolio allocation process, putting weights and running a Monte Carlo Simulation for better diversification\n",
    "#### The Monte Carlo simulation generated 50,000 random portfolios and calculates their returns, volatilites and Sharpe Ratios\n",
    "\n",
    "#### It has alos plotted an 'Efficienty Frontier' graph"
   ]
  },
  {
   "cell_type": "code",
   "execution_count": null,
   "metadata": {},
   "outputs": [],
   "source": [
    "# Define the ETFs and the time period\n",
    "etfs = ['SPY', 'QQQ', 'EFA', 'EEM', 'AGG']\n",
    "start_date = '2020-01-01'\n",
    "end_date = '2023-01-01'\n",
    "\n",
    "# Fetch historical price data\n",
    "data = yf.download(etfs, start=start_date, end=end_date)['Adj Close']\n",
    "\n",
    "# Calculate daily returns\n",
    "returns = data.pct_change().dropna()\n",
    "\n",
    "# Calculate the mean returns and the covariance matrix\n",
    "mean_returns = returns.mean()\n",
    "cov_matrix = returns.cov()\n",
    "\n",
    "# Define the risk-free rate (annualized)\n",
    "risk_free_rate = 0.01\n",
    "\n",
    "# Number of portfolio simulations\n",
    "num_portfolios = 50000\n",
    "results = np.zeros((4, num_portfolios))\n",
    "\n",
    "# Array to store weights\n",
    "all_weights = np.zeros((num_portfolios, len(etfs)))\n",
    "\n",
    "# Monte Carlo simulation\n",
    "for i in range(num_portfolios):\n",
    "    weights = np.array(np.random.random(len(etfs)))\n",
    "    weights /= np.sum(weights)\n",
    "    \n",
    "    all_weights[i, :] = weights\n",
    "    \n",
    "    portfolio_return = np.sum(mean_returns * weights) * 252\n",
    "    portfolio_std_dev = np.sqrt(np.dot(weights.T, np.dot(cov_matrix * 252, weights)))\n",
    "    \n",
    "    results[0,i] = portfolio_return\n",
    "    results[1,i] = portfolio_std_dev\n",
    "    results[2,i] = results[0,i] / results[1,i]\n",
    "    results[3,i] = i\n",
    "\n",
    "# Locate the portfolio with the highest Sharpe ratio\n",
    "max_sharpe_idx = np.argmax(results[2])\n",
    "max_sharpe_allocation = all_weights[max_sharpe_idx,:]\n",
    "\n",
    "# Allocate the lump sum amount\n",
    "lump_sum = 10000\n",
    "allocation = max_sharpe_allocation * lump_sum\n",
    "\n",
    "# Display the results\n",
    "portfolio = pd.DataFrame({\n",
    "    'ETF': etfs,\n",
    "    'Optimal Weight': max_sharpe_allocation,\n",
    "    'Allocation (USD)': allocation\n",
    "})\n",
    "\n",
    "print(portfolio)\n",
    "\n",
    "# Plotting the efficient frontier\n",
    "plt.scatter(results[1,:], results[0,:], c=results[2,:], cmap='viridis')\n",
    "plt.colorbar(label='Sharpe Ratio')\n",
    "plt.xlabel('Volatility')\n",
    "plt.ylabel('Return')\n",
    "plt.scatter(results[1,max_sharpe_idx], results[0,max_sharpe_idx], color='red', marker='*', s=200)\n",
    "plt.title('Efficient Frontier with 50,000 Simulations')\n",
    "plt.show()"
   ]
  },
  {
   "cell_type": "markdown",
   "metadata": {},
   "source": [
    "#### In this portfolio I added different ETFs and collected more data for better data analysis "
   ]
  },
  {
   "cell_type": "code",
   "execution_count": null,
   "metadata": {},
   "outputs": [],
   "source": [
    "# Define the ETFs and the time period\n",
    "etfs = ['XLK', 'PHYS', 'XSD', 'SCHD', 'AGG', 'IXUS']\n",
    "start_date = '2013-01-01'\n",
    "end_date = '2024-01-01'\n",
    "\n",
    "# Fetch historical price data\n",
    "data = yf.download(etfs, start=start_date, end=end_date)['Adj Close']\n",
    "\n",
    "# Calculate daily returns\n",
    "returns = data.pct_change().dropna()\n",
    "\n",
    "# Calculate the mean returns and the covariance matrix\n",
    "mean_returns = returns.mean()\n",
    "cov_matrix = returns.cov()\n",
    "\n",
    "# Define the risk-free rate (annualized)\n",
    "risk_free_rate = 0.01\n",
    "\n",
    "# Number of portfolio simulations\n",
    "num_portfolios = 50000\n",
    "results = np.zeros((4, num_portfolios))\n",
    "\n",
    "# Array to store weights\n",
    "all_weights = np.zeros((num_portfolios, len(etfs)))\n",
    "\n",
    "# Monte Carlo simulation\n",
    "for i in range(num_portfolios):\n",
    "    weights = np.array(np.random.random(len(etfs)))\n",
    "    weights /= np.sum(weights)\n",
    "    \n",
    "    all_weights[i, :] = weights\n",
    "    \n",
    "    portfolio_return = np.sum(mean_returns * weights) * 252\n",
    "    portfolio_std_dev = np.sqrt(np.dot(weights.T, np.dot(cov_matrix * 252, weights)))\n",
    "    \n",
    "    results[0,i] = portfolio_return\n",
    "    results[1,i] = portfolio_std_dev\n",
    "    results[2,i] = results[0,i] / results[1,i]\n",
    "    results[3,i] = i\n",
    "\n",
    "# Locate the portfolio with the highest Sharpe ratio\n",
    "max_sharpe_idx = np.argmax(results[2])\n",
    "max_sharpe_allocation = all_weights[max_sharpe_idx,:]\n",
    "\n",
    "# Allocate the lump sum amount\n",
    "lump_sum = 10000\n",
    "allocation = max_sharpe_allocation * lump_sum\n",
    "\n",
    "# Display the results\n",
    "portfolio = pd.DataFrame({\n",
    "    'ETF': etfs,\n",
    "    'Optimal Weight': max_sharpe_allocation,\n",
    "    'Allocation (USD)': allocation\n",
    "})\n",
    "\n",
    "print(portfolio)\n",
    "\n",
    "# Plotting the efficient frontier\n",
    "plt.scatter(results[1,:], results[0,:], c=results[2,:], cmap='viridis')\n",
    "plt.colorbar(label='Sharpe Ratio')\n",
    "plt.xlabel('Volatility')\n",
    "plt.ylabel('Return')\n",
    "plt.scatter(results[1,max_sharpe_idx], results[0,max_sharpe_idx], color='red', marker='*', s=200)\n",
    "plt.title('Efficient Frontier with 50,000 Simulations')\n",
    "plt.show()"
   ]
  }
 ],
 "metadata": {
  "kernelspec": {
   "display_name": "Python 3",
   "language": "python",
   "name": "python3"
  },
  "language_info": {
   "codemirror_mode": {
    "name": "ipython",
    "version": 3
   },
   "file_extension": ".py",
   "mimetype": "text/x-python",
   "name": "python",
   "nbconvert_exporter": "python",
   "pygments_lexer": "ipython3",
   "version": "3.12.3"
  }
 },
 "nbformat": 4,
 "nbformat_minor": 2
}
